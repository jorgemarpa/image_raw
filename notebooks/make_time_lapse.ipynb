{
 "cells": [
  {
   "cell_type": "code",
   "execution_count": 1,
   "id": "4533387f",
   "metadata": {},
   "outputs": [],
   "source": [
    "import ffmpeg\n",
    "from glob import glob"
   ]
  },
  {
   "cell_type": "code",
   "execution_count": 8,
   "id": "6d6629bd",
   "metadata": {},
   "outputs": [
    {
     "data": {
      "text/plain": [
       "709"
      ]
     },
     "execution_count": 8,
     "metadata": {},
     "output_type": "execute_result"
    }
   ],
   "source": [
    "jpgs = glob(f\"../data/stamps/*jpg\")\n",
    "len(jpgs)"
   ]
  },
  {
   "cell_type": "code",
   "execution_count": 16,
   "id": "2b4f899b-580c-4dc1-ada5-265198c47180",
   "metadata": {},
   "outputs": [
    {
     "name": "stderr",
     "output_type": "stream",
     "text": [
      "ffmpeg version 6.1.1 Copyright (c) 2000-2023 the FFmpeg developers\n",
      "  built with Apple clang version 15.0.0 (clang-1500.1.0.2.5)\n",
      "  configuration: --prefix=/usr/local/Cellar/ffmpeg/6.1.1_5 --enable-shared --enable-pthreads --enable-version3 --cc=clang --host-cflags= --host-ldflags='-Wl,-ld_classic' --enable-ffplay --enable-gnutls --enable-gpl --enable-libaom --enable-libaribb24 --enable-libbluray --enable-libdav1d --enable-libharfbuzz --enable-libjxl --enable-libmp3lame --enable-libopus --enable-librav1e --enable-librist --enable-librubberband --enable-libsnappy --enable-libsrt --enable-libssh --enable-libsvtav1 --enable-libtesseract --enable-libtheora --enable-libvidstab --enable-libvmaf --enable-libvorbis --enable-libvpx --enable-libwebp --enable-libx264 --enable-libx265 --enable-libxml2 --enable-libxvid --enable-lzma --enable-libfontconfig --enable-libfreetype --enable-frei0r --enable-libass --enable-libopencore-amrnb --enable-libopencore-amrwb --enable-libopenjpeg --enable-libopenvino --enable-libspeex --enable-libsoxr --enable-libzmq --enable-libzimg --disable-libjack --disable-indev=jack --enable-videotoolbox --enable-audiotoolbox\n",
      "  libavutil      58. 29.100 / 58. 29.100\n",
      "  libavcodec     60. 31.102 / 60. 31.102\n",
      "  libavformat    60. 16.100 / 60. 16.100\n",
      "  libavdevice    60.  3.100 / 60.  3.100\n",
      "  libavfilter     9. 12.100 /  9. 12.100\n",
      "  libswscale      7.  5.100 /  7.  5.100\n",
      "  libswresample   4. 12.100 /  4. 12.100\n",
      "  libpostproc    57.  3.100 / 57.  3.100\n",
      "Input #0, image2, from '../data/stamps/stamp_batch_*.jpg':\n",
      "  Duration: 00:00:48.17, start: 0.000000, bitrate: N/A\n",
      "  Stream #0:0: Video: mjpeg (Baseline), yuvj420p(pc, bt470bg/unknown/unknown), 2400x2400 [SAR 1:1 DAR 1:1], 30 fps, 30 tbr, 30 tbn\n",
      "Stream mapping:\n",
      "  Stream #0:0 (mjpeg) -> deflicker:default\n",
      "  scale:default -> Stream #0:0 (libx264)\n",
      "Press [q] to stop, [?] for help\n",
      "[swscaler @ 0x7f9b30018000] deprecated pixel format used, make sure you did set range correctly\n",
      "    Last message repeated 1 times\n",
      "[swscaler @ 0x7f9b009d0000] deprecated pixel format used, make sure you did set range correctly\n",
      "[swscaler @ 0x7f9af0008000] deprecated pixel format used, make sure you did set range correctly\n",
      "[libx264 @ 0x7f9b2b92d9c0] using SAR=1/1\n",
      "[libx264 @ 0x7f9b2b92d9c0] using cpu capabilities: MMX2 SSE2Fast SSSE3 SSE4.2\n",
      "[libx264 @ 0x7f9b2b92d9c0] profile High, level 5.1, 4:2:0, 8-bit\n",
      "[libx264 @ 0x7f9b2b92d9c0] 264 - core 164 r3108 31e19f9 - H.264/MPEG-4 AVC codec - Copyleft 2003-2023 - http://www.videolan.org/x264.html - options: cabac=1 ref=8 deblock=1:0:0 analyse=0x3:0x133 me=umh subme=9 psy=1 psy_rd=1.00:0.00 mixed_ref=1 me_range=16 chroma_me=1 trellis=2 8x8dct=1 cqm=0 deadzone=21,11 fast_pskip=1 chroma_qp_offset=-2 threads=15 lookahead_threads=1 sliced_threads=0 nr=0 decimate=1 interlaced=0 bluray_compat=0 constrained_intra=0 bframes=3 b_pyramid=2 b_adapt=2 b_bias=0 direct=3 weightb=1 open_gop=0 weightp=2 keyint=250 keyint_min=25 scenecut=40 intra_refresh=0 rc_lookahead=60 rc=crf mbtree=1 crf=20.0 qcomp=0.60 qpmin=0 qpmax=69 qpstep=4 ip_ratio=1.40 aq=1:1.00\n",
      "Output #0, mp4, to '../data/eclipse_time_lapse.mp4':\n",
      "  Metadata:\n",
      "    encoder         : Lavf60.16.100\n",
      "  Stream #0:0: Video: h264 (avc1 / 0x31637661), yuv420p(tv, bt470bg/unknown/unknown, progressive), 2160x2160 [SAR 1:1 DAR 1:1], q=2-31, 30 fps, 15360 tbn\n",
      "    Metadata:\n",
      "      encoder         : Lavc60.31.102 libx264\n",
      "    Side data:\n",
      "      cpb: bitrate max/min/avg: 0/0/0 buffer size: 0 vbv_delay: N/A\n",
      "[mp4 @ 0x7f9b2b92c780] Starting second pass: moving the moov atom to the beginning of the file      \n",
      "[out#0/mp4 @ 0x7f9b2b92c680] video:29745kB audio:0kB subtitle:0kB other streams:0kB global headers:0kB muxing overhead: 0.050265%\n",
      "frame= 1445 fps=7.7 q=-1.0 Lsize=   29760kB time=00:00:48.06 bitrate=5072.0kbits/s speed=0.256x    \n",
      "[libx264 @ 0x7f9b2b92d9c0] frame I:6     Avg QP:16.44  size:112458\n",
      "[libx264 @ 0x7f9b2b92d9c0] frame P:529   Avg QP:18.91  size: 25397\n",
      "[libx264 @ 0x7f9b2b92d9c0] frame B:910   Avg QP:19.16  size: 17965\n",
      "[libx264 @ 0x7f9b2b92d9c0] consecutive B-frames:  4.5%  5.4% 87.6%  2.5%\n",
      "[libx264 @ 0x7f9b2b92d9c0] mb I  I16..4: 43.0% 44.1% 12.9%\n",
      "[libx264 @ 0x7f9b2b92d9c0] mb P  I16..4:  1.2%  0.7%  0.0%  P16..4: 38.5%  1.8% 11.1%  0.0%  0.0%    skip:46.8%\n",
      "[libx264 @ 0x7f9b2b92d9c0] mb B  I16..4:  0.1%  0.1%  0.0%  B16..8: 38.7%  1.6%  0.1%  direct: 2.4%  skip:57.0%  L0:55.3% L1:44.3% BI: 0.4%\n",
      "[libx264 @ 0x7f9b2b92d9c0] 8x8 transform intra:42.1% inter:70.8%\n",
      "[libx264 @ 0x7f9b2b92d9c0] direct mvs  spatial:99.3% temporal:0.7%\n",
      "[libx264 @ 0x7f9b2b92d9c0] coded y,uvDC,uvAC intra: 42.6% 16.3% 1.3% inter: 5.5% 11.8% 0.0%\n",
      "[libx264 @ 0x7f9b2b92d9c0] i16 v,h,dc,p: 59% 20%  9% 12%\n",
      "[libx264 @ 0x7f9b2b92d9c0] i8 v,h,dc,ddl,ddr,vr,hd,vl,hu:  2%  2% 11% 16% 21% 13% 15% 10% 10%\n",
      "[libx264 @ 0x7f9b2b92d9c0] i4 v,h,dc,ddl,ddr,vr,hd,vl,hu:  2%  1%  6% 23% 20% 10% 13%  9% 16%\n",
      "[libx264 @ 0x7f9b2b92d9c0] i8c dc,h,v,p: 44% 40% 10%  5%\n",
      "[libx264 @ 0x7f9b2b92d9c0] Weighted P-Frames: Y:22.7% UV:11.0%\n",
      "[libx264 @ 0x7f9b2b92d9c0] ref P L0: 31.4%  4.1% 20.0% 10.0% 10.2%  9.0%  8.7%  5.4%  1.1%  0.1%\n",
      "[libx264 @ 0x7f9b2b92d9c0] ref B L0: 34.8% 18.1% 18.0%  8.9%  8.7%  8.1%  3.4%\n",
      "[libx264 @ 0x7f9b2b92d9c0] ref B L1: 99.6%  0.4%\n",
      "[libx264 @ 0x7f9b2b92d9c0] kb/s:5058.77\n"
     ]
    },
    {
     "data": {
      "text/plain": [
       "(None, None)"
      ]
     },
     "execution_count": 16,
     "metadata": {},
     "output_type": "execute_result"
    }
   ],
   "source": [
    "(\n",
    "    ffmpeg.input(\n",
    "        \"../data/stamps/stamp_batch_*.jpg\",\n",
    "        pattern_type=\"glob\",\n",
    "        framerate=30,\n",
    "    )\n",
    "    .filter(\"deflicker\", mode=\"pm\", size=10)\n",
    "    .filter(\"scale\", size=\"uhd2160\", force_original_aspect_ratio=\"decrease\")\n",
    "    .output(\n",
    "        \"../data/eclipse_time_lapse.mp4\",\n",
    "        crf=20,\n",
    "        preset=\"slower\",\n",
    "        movflags=\"faststart\",\n",
    "        pix_fmt=\"yuv420p\",\n",
    "    )\n",
    "    .run()\n",
    ")"
   ]
  },
  {
   "cell_type": "code",
   "execution_count": null,
   "id": "6805b191",
   "metadata": {},
   "outputs": [],
   "source": []
  }
 ],
 "metadata": {
  "kernelspec": {
   "display_name": "image_raw",
   "language": "python",
   "name": "python3"
  },
  "language_info": {
   "codemirror_mode": {
    "name": "ipython",
    "version": 3
   },
   "file_extension": ".py",
   "mimetype": "text/x-python",
   "name": "python",
   "nbconvert_exporter": "python",
   "pygments_lexer": "ipython3",
   "version": "3.8.12"
  },
  "widgets": {
   "application/vnd.jupyter.widget-state+json": {
    "state": {},
    "version_major": 2,
    "version_minor": 0
   }
  }
 },
 "nbformat": 4,
 "nbformat_minor": 5
}
